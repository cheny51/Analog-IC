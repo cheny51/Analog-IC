{
 "cells": [
  {
   "cell_type": "markdown",
   "metadata": {},
   "source": [
    "# Activity 1\n",
    "\n",
    "Class activity. Solve for current."
   ]
  },
  {
   "cell_type": "markdown",
   "metadata": {},
   "source": [
    "| $V_{bias}$ | MOSFET Operation Mode | $I_D$ (mA) | $V_D$ (V) |\n",
    "| ------ | --------------------- | -------- | ------- |\n",
    "| 0.5    | OFF | 0    | 3    |\n",
    "| 1.0    | SAT | .175 | 2.47 |\n",
    "| 1.2    | SAT | .377 | 1.87 |\n",
    "| 1.5    | SAT | .77  | .69 |\n",
    "| 2.0    | LINEAR | .87 | .37 |\n",
    "| 3.0    | LINEAR | .93 | .21 |"
   ]
  },
  {
   "cell_type": "code",
   "execution_count": 66,
   "metadata": {},
   "outputs": [],
   "source": [
    "import cmath\n",
    "\n",
    "# saturation\n",
    "def saturation_current (VGS, VTH, K,fet_mode=\"\"):\n",
    "    if fet_mode==\"sat\":\n",
    "        print(\"The saturation current is: {} mA\".format(0.5*K*(VGS-VTH)**2*10**3))\n",
    "        return 0.5*K*(VGS-VTH)**2\n",
    "    return None\n",
    "def drain_voltage (VCC=None, ID=None, RD=None, VGS=None, VTH=None, VDS=None, fet_mode=''):\n",
    "    if fet_mode==\"sat\":\n",
    "        VDS = round(VCC-ID*RD,3)\n",
    "        mode_true = VDS > (VGS-VTH)\n",
    "        print(\"VDS = {} V, the assumption is {}.\".format(VDS, mode_true))\n",
    "        return VDS\n",
    "    elif fet_mode=='triode':\n",
    "        mode_true = VDS < (VGS-VTH)\n",
    "        print(\"VDS = {} V, the assumption is {}.\".format(VDS, mode_true))\n",
    "        return VDS\n",
    "    return None\n",
    "\n",
    "# Triode\n",
    "def quadratic_formula (a,b,c):\n",
    "    d = (b**2) - (4*a*c)  \n",
    "    sol1 = (-b-cmath.sqrt(d))/(2*a)  \n",
    "    sol2 = (-b+cmath.sqrt(d))/(2*a)  \n",
    "    print('The solution are {0} and {1}'.format(sol1,sol2))\n",
    "    return [sol1, sol2]\n",
    "def current_post_quad (VCC, VDS, RD):\n",
    "    ID = (VCC-VDS)/RD\n",
    "    print('ID = {} A'.format((VCC-VDS)/RD))\n",
    "    return ID"
   ]
  },
  {
   "cell_type": "code",
   "execution_count": 31,
   "metadata": {},
   "outputs": [
    {
     "name": "stdout",
     "output_type": "stream",
     "text": [
      "The saturation current is: 0.175655 mA\n",
      "VDS = 2.473035 V, the assumption is True.\n"
     ]
    }
   ],
   "source": [
    "W = 3.5\n",
    "L = 0.35\n",
    "K_prime = 190*10**(-6)\n",
    "Kn = W/L*K_prime\n",
    "VGS = 1\n",
    "VTH = 0.57\n",
    "ID = saturation_current(VGS,VTH,Kn,fet_mode='sat')\n",
    "VCC = 3\n",
    "RD=3000\n",
    "#verification\n",
    "drain_voltage (VCC=VCC, ID=ID, RD=RD, VGS=VGS,VTH=VTH, fet_mode='sat')"
   ]
  },
  {
   "cell_type": "code",
   "execution_count": 32,
   "metadata": {},
   "outputs": [
    {
     "name": "stdout",
     "output_type": "stream",
     "text": [
      "The saturation current is: 0.377055 mA\n",
      "VDS = 1.868835 V, the assumption is True.\n"
     ]
    }
   ],
   "source": [
    "W = 3.5\n",
    "L = 0.35\n",
    "K_prime = 190*10**(-6)\n",
    "Kn = W/L*K_prime\n",
    "VGS = 1.2\n",
    "VTH = 0.57\n",
    "ID = saturation_current(VGS,VTH,Kn,fet_mode='sat')\n",
    "VCC = 3\n",
    "RD=3000\n",
    "#verification\n",
    "drain_voltage (VCC=VCC, ID=ID, RD=RD, VGS=VGS,VTH=VTH, fet_mode='sat')"
   ]
  },
  {
   "cell_type": "code",
   "execution_count": 62,
   "metadata": {},
   "outputs": [
    {
     "name": "stdout",
     "output_type": "stream",
     "text": [
      "The saturation current is: 0.821655 mA\n",
      "VDS = 0.535 V, the assumption is False.\n",
      "The solution are (0.6939013422053886+0j) and (1.5169758507770679+0j)\n",
      "The valid VDS here is: 0.6939013422053886 V\n",
      "ID = 0.0007686995525982037 A\n"
     ]
    }
   ],
   "source": [
    "W = 3.5\n",
    "L = 0.35\n",
    "K_prime = 190*10**(-6)\n",
    "Kn = W/L*K_prime\n",
    "VGS = 1.5\n",
    "VTH = 0.57\n",
    "ID = saturation_current(VGS,VTH,Kn,fet_mode='sat')\n",
    "VCC = 3\n",
    "RD=3000\n",
    "#verification\n",
    "drain_voltage (VCC=VCC, ID=ID, RD=RD, VGS=VGS,VTH=VTH, fet_mode='sat')\n",
    "\n",
    "# verification fail -> so it's triode\n",
    "# VDS\n",
    "a = Kn/2\n",
    "b = -1*(1/RD+Kn*(VGS-VTH))\n",
    "c = VCC/RD\n",
    "Vd1, Vd2 = quadratic_formula(a=a,b=b,c=c)\n",
    "VDS = min(abs(Vd1),abs(Vd2))\n",
    "print('The valid VDS here is: {} V'.format(VDS))\n",
    "# ID\n",
    "ID = current_post_quad(VCC=VCC, VDS=VDS, RD=RD)"
   ]
  },
  {
   "cell_type": "code",
   "execution_count": 69,
   "metadata": {},
   "outputs": [
    {
     "name": "stdout",
     "output_type": "stream",
     "text": [
      "The saturation current is: 1.9426550000000005 mA\n",
      "VDS = -2.828 V, the assumption is False.\n",
      "The solution are (0.3706100625820233+0j) and (2.8402671304004334+0j)\n",
      "The valid VDS here is: 0.3706100625820233 V\n",
      "ID = 0.0008764633124726589 A\n",
      "VDS = 0.3706100625820233 V, the assumption is True.\n"
     ]
    }
   ],
   "source": [
    "# input parameter\n",
    "VCC = 3\n",
    "RD=3000\n",
    "W = 3.5\n",
    "L = 0.35\n",
    "K_prime = 190*10**(-6)\n",
    "Kn = W/L*K_prime\n",
    "VGS = 2\n",
    "VTH = 0.57\n",
    "\n",
    "# assumption 1: saturation\n",
    "ID = saturation_current(VGS,VTH,Kn,fet_mode='sat')\n",
    "# verification for saturation\n",
    "drain_voltage (VCC=VCC, ID=ID, RD=RD, VGS=VGS,VTH=VTH, fet_mode='sat')\n",
    "\n",
    "# assumption 2: triode\n",
    "# Solving for VDS\n",
    "a = Kn/2\n",
    "b = -1*(1/RD+Kn*(VGS-VTH))\n",
    "c = VCC/RD\n",
    "Vd1, Vd2 = quadratic_formula(a=a,b=b,c=c)\n",
    "VDS = min(abs(Vd1),abs(Vd2))\n",
    "print('The valid VDS here is: {} V'.format(VDS))\n",
    "# Solving for ID\n",
    "ID = current_post_quad(VCC=VCC, VDS=VDS, RD=RD)\n",
    "# verification for triode\n",
    "VDS = drain_voltage(VDS=VDS, VGS=VGS, VTH=VTH, fet_mode=\"triode\")"
   ]
  },
  {
   "cell_type": "code",
   "execution_count": 70,
   "metadata": {},
   "outputs": [
    {
     "name": "stdout",
     "output_type": "stream",
     "text": [
      "The saturation current is: 5.609655 mA\n",
      "VDS = -13.829 V, the assumption is False.\n",
      "The solution are (0.21051089379563057+0j) and (5.000366299186825+0j)\n",
      "The valid VDS here is: 0.21051089379563057 V\n",
      "ID = 0.0009298297020681231 A\n",
      "VDS = 0.21051089379563057 V, the assumption is True.\n"
     ]
    }
   ],
   "source": [
    "# input parameter\n",
    "VCC = 3\n",
    "RD=3000\n",
    "W = 3.5\n",
    "L = 0.35\n",
    "K_prime = 190*10**(-6)\n",
    "Kn = W/L*K_prime\n",
    "VGS = 3\n",
    "VTH = 0.57\n",
    "\n",
    "# assumption 1: saturation\n",
    "ID = saturation_current(VGS,VTH,Kn,fet_mode='sat')\n",
    "# verification for saturation\n",
    "drain_voltage (VCC=VCC, ID=ID, RD=RD, VGS=VGS,VTH=VTH, fet_mode='sat')\n",
    "\n",
    "# assumption 2: triode\n",
    "# Solving for VDS\n",
    "a = Kn/2\n",
    "b = -1*(1/RD+Kn*(VGS-VTH))\n",
    "c = VCC/RD\n",
    "Vd1, Vd2 = quadratic_formula(a=a,b=b,c=c)\n",
    "VDS = min(abs(Vd1),abs(Vd2))\n",
    "print('The valid VDS here is: {} V'.format(VDS))\n",
    "# Solving for ID\n",
    "ID = current_post_quad(VCC=VCC, VDS=VDS, RD=RD)\n",
    "# verification for triode\n",
    "VDS = drain_voltage(VDS=VDS, VGS=VGS, VTH=VTH, fet_mode=\"triode\")"
   ]
  },
  {
   "cell_type": "code",
   "execution_count": 86,
   "metadata": {},
   "outputs": [
    {
     "name": "stdout",
     "output_type": "stream",
     "text": [
      "The saturation current is: 5.609655 mA\n",
      "VDS = -13.829 V, the assumption is False.\n",
      "The solution are (0.21051089379563057+0j) and (5.000366299186825+0j)\n",
      "The valid VDS here is: 0.21051089379563057 V\n",
      "ID = 0.0009298297020681231 A\n",
      "VDS = 0.21051089379563057 V, the assumption is True.\n"
     ]
    }
   ],
   "source": [
    "# input parameter\n",
    "VCC = 3\n",
    "RD=3000\n",
    "W = 3.5\n",
    "L = 0.35\n",
    "K_prime = 190*10**(-6)\n",
    "Kn = W/L*K_prime\n",
    "VGS = 3\n",
    "VTH = 0.57\n",
    "\n",
    "# assumption 1: saturation\n",
    "ID = saturation_current(VGS,VTH,Kn,fet_mode='sat')\n",
    "# verification for saturation\n",
    "drain_voltage (VCC=VCC, ID=ID, RD=RD, VGS=VGS,VTH=VTH, fet_mode='sat')\n",
    "\n",
    "# assumption 2: triode\n",
    "# Solving for VDS\n",
    "a = Kn/2\n",
    "b = -1*(1/RD+Kn*(VGS-VTH))\n",
    "c = VCC/RD\n",
    "Vd1, Vd2 = quadratic_formula(a=a,b=b,c=c)\n",
    "VDS = min(abs(Vd1),abs(Vd2))\n",
    "print('The valid VDS here is: {} V'.format(VDS))\n",
    "# Solving for ID\n",
    "ID = current_post_quad(VCC=VCC, VDS=VDS, RD=RD)\n",
    "# verification for triode\n",
    "VDS = drain_voltage(VDS=VDS, VGS=VGS, VTH=VTH, fet_mode=\"triode\")"
   ]
  },
  {
   "cell_type": "code",
   "execution_count": 93,
   "metadata": {},
   "outputs": [
    {
     "name": "stdout",
     "output_type": "stream",
     "text": [
      "The solution are (-1.216308559592374+0j) and (0.8654313666099176+0j)\n",
      "VDS would be about: (0.8654313666099176+0j) V\n",
      "ID would be about: 0.0007115228777966942 A\n",
      "VGS would be about: 1.4354313666099174 V\n"
     ]
    }
   ],
   "source": [
    "# Problem: what is the drain voltage when MOSFET transition from SAT -> TRI?\n",
    "# AKA: What VDS would be to make that happen? \n",
    "# unknown: VGS, VDS, ID\n",
    "# known: VDS = VGS + VTH, device in saturation.\n",
    "\n",
    "# input parameter\n",
    "VCC = 3\n",
    "RD=3000\n",
    "W = 3.5\n",
    "L = 0.35\n",
    "K_prime = 190*10**(-6)\n",
    "Kn = W/L*K_prime\n",
    "VTH = 0.57\n",
    "\n",
    "a = Kn/2\n",
    "b = 1/RD\n",
    "c = -VCC/RD\n",
    "Vd1, Vd2 = quadratic_formula(a=a,b=b,c=c)\n",
    "VDS = abs(Vd2)\n",
    "print(\"VDS would be about: {} V\".format(Vd2)) #the positive digit one\n",
    "ID = (VCC - VDS)/RD\n",
    "print(\"ID would be about: {} A\".format(ID))\n",
    "VGS = VDS + VTH\n",
    "print(\"VGS would be about: {} V\".format(VGS))"
   ]
  },
  {
   "cell_type": "code",
   "execution_count": 94,
   "metadata": {},
   "outputs": [
    {
     "data": {
      "image/png": "[encoded data removed]",
      "text/plain": [
       "<Figure size 432x288 with 1 Axes>"
      ]
     },
     "metadata": {
      "needs_background": "light"
     },
     "output_type": "display_data"
    },
    {
     "data": {
      "image/png": "[encoded data removed]",
      "text/plain": [
       "<Figure size 432x288 with 1 Axes>"
      ]
     },
     "metadata": {
      "needs_background": "light"
     },
     "output_type": "display_data"
    }
   ],
   "source": [
    "import matplotlib\n",
    "import matplotlib.pyplot as plt\n",
    "import numpy as np\n",
    "\n",
    "# Data for plotting\n",
    "def plot_point ( t, data, xlabel, ylabel, title):\n",
    "    fig, ax = plt.subplots()\n",
    "    ax.plot(t, data)\n",
    "    ax.set(xlabel=xlabel, ylabel=ylabel,\n",
    "           title=title)\n",
    "    ax.grid()\n",
    "    plt.show()\n",
    "\n",
    "VGS = [0.5, 1, 1.2, 1.43, 1.5, 2, 3]\n",
    "ID = [0,.175,.377,0.71,.77,.87,.93]\n",
    "VD = [3,2.47,1.87,.86,.69,.37,.21]\n",
    "\n",
    "# ID vs. VGS\n",
    "plot_point(t=VGS, data=ID, xlabel = 'VG (V)', ylabel = 'Drain Current (mA)', title = 'ID vs. VG')\n",
    "# VD vs. VGS\n",
    "plot_point(t=VGS, data=VD, xlabel = 'VG (V)', ylabel = 'Drain Voltage (V)', title = 'VD vs. VG')"
   ]
  },
  {
   "cell_type": "code",
   "execution_count": null,
   "metadata": {},
   "outputs": [],
   "source": []
  }
 ],
 "metadata": {
  "kernelspec": {
   "display_name": "Python 3",
   "language": "python",
   "name": "python3"
  },
  "language_info": {
   "codemirror_mode": {
    "name": "ipython",
    "version": 3
   },
   "file_extension": ".py",
   "mimetype": "text/x-python",
   "name": "python",
   "nbconvert_exporter": "python",
   "pygments_lexer": "ipython3",
   "version": "3.7.4"
  }
 },
 "nbformat": 4,
 "nbformat_minor": 2
}
