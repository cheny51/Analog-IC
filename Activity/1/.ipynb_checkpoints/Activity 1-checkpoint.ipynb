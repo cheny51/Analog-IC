{
 "cells": [
  {
   "cell_type": "markdown",
   "metadata": {},
   "source": [
    "# Activity 1\n",
    "\n",
    "Class activity. Solve for current."
   ]
  },
  {
   "cell_type": "markdown",
   "metadata": {
    "hideCode": true,
    "hideOutput": true,
    "hidePrompt": true
   },
   "source": [
    "### Problem 1\n",
    "![Problem-1](./image/act1_p1.png)"
   ]
  },
  {
   "cell_type": "markdown",
   "metadata": {
    "hideCode": true,
    "hideOutput": true,
    "hidePrompt": true
   },
   "source": [
    "| $V_{bias}$ | MOSFET Operation Mode | $I_D$ (mA) | $V_D$ (V) |\n",
    "| ------ | --------------------- | -------- | ------- |\n",
    "| 0.5    | OFF | 0    | 3    |\n",
    "| 1.0    | SAT | .175 | 2.47 |\n",
    "| 1.2    | SAT | .377 | 1.87 |\n",
    "| 1.5    | SAT | .77  | .69 |\n",
    "| 2.0    | LINEAR | .87 | .37 |\n",
    "| 3.0    | LINEAR | .93 | .21 |"
   ]
  },
  {
   "cell_type": "code",
   "execution_count": 49,
   "metadata": {
    "hideCode": true
   },
   "outputs": [],
   "source": [
    "import cmath\n",
    "\n",
    "# saturation\n",
    "def saturation_current (VGS, VTH, K,fet_mode=\"\"):\n",
    "    if fet_mode==\"sat\":\n",
    "        print(\"The saturation current is: {} mA\".format(0.5*K*(VGS-VTH)**2*10**3))\n",
    "        return 0.5*K*(VGS-VTH)**2\n",
    "    return None\n",
    "def drain_voltage (VCC=None, ID=None, RD=None, VGS=None, VTH=None, VDS=None, fet_mode=''):\n",
    "    if fet_mode==\"sat\":\n",
    "        VDS = round(VCC-ID*RD,3)\n",
    "        mode_true = VDS > (VGS-VTH)\n",
    "        print(\"VDS = {} V, the assumption is {}.\".format(VDS, mode_true))\n",
    "        return VDS\n",
    "    elif fet_mode=='triode':\n",
    "        mode_true = VDS < (VGS-VTH)\n",
    "        print(\"VDS = {} V, the assumption is {}.\".format(VDS, mode_true))\n",
    "        return VDS\n",
    "    return None\n",
    "\n",
    "# Triode\n",
    "def quadratic_formula (a,b,c):\n",
    "    d = (b**2) - (4*a*c)  \n",
    "    sol1 = (-b-cmath.sqrt(d))/(2*a)  \n",
    "    sol2 = (-b+cmath.sqrt(d))/(2*a)  \n",
    "    print('The solution are {0} and {1}'.format(sol1,sol2))\n",
    "    return [sol1, sol2]\n",
    "def current_post_quad (VCC, VDS, RD):\n",
    "    ID = (VCC-VDS)/RD\n",
    "    print('ID = {} A'.format((VCC-VDS)/RD))\n",
    "    return ID"
   ]
  },
  {
   "cell_type": "code",
   "execution_count": 50,
   "metadata": {
    "hideCode": true
   },
   "outputs": [
    {
     "name": "stdout",
     "output_type": "stream",
     "text": [
      "The saturation current is: 0.175655 mA\n",
      "VDS = 2.473 V, the assumption is True.\n"
     ]
    },
    {
     "data": {
      "text/plain": [
       "2.473"
      ]
     },
     "execution_count": 50,
     "metadata": {},
     "output_type": "execute_result"
    }
   ],
   "source": [
    "W = 3.5\n",
    "L = 0.35\n",
    "K_prime = 190*10**(-6)\n",
    "Kn = W/L*K_prime\n",
    "VGS = 1\n",
    "VTH = 0.57\n",
    "ID = saturation_current(VGS,VTH,Kn,fet_mode='sat')\n",
    "VCC = 3\n",
    "RD=3000\n",
    "#verification\n",
    "drain_voltage (VCC=VCC, ID=ID, RD=RD, VGS=VGS,VTH=VTH, fet_mode='sat')"
   ]
  },
  {
   "cell_type": "code",
   "execution_count": 51,
   "metadata": {
    "hideCode": true
   },
   "outputs": [
    {
     "name": "stdout",
     "output_type": "stream",
     "text": [
      "The saturation current is: 0.377055 mA\n",
      "VDS = 1.869 V, the assumption is True.\n"
     ]
    },
    {
     "data": {
      "text/plain": [
       "1.869"
      ]
     },
     "execution_count": 51,
     "metadata": {},
     "output_type": "execute_result"
    }
   ],
   "source": [
    "W = 3.5\n",
    "L = 0.35\n",
    "K_prime = 190*10**(-6)\n",
    "Kn = W/L*K_prime\n",
    "VGS = 1.2\n",
    "VTH = 0.57\n",
    "ID = saturation_current(VGS,VTH,Kn,fet_mode='sat')\n",
    "VCC = 3\n",
    "RD=3000\n",
    "#verification\n",
    "drain_voltage (VCC=VCC, ID=ID, RD=RD, VGS=VGS,VTH=VTH, fet_mode='sat')"
   ]
  },
  {
   "cell_type": "code",
   "execution_count": 52,
   "metadata": {
    "hideCode": true
   },
   "outputs": [
    {
     "name": "stdout",
     "output_type": "stream",
     "text": [
      "The saturation current is: 0.821655 mA\n",
      "VDS = 0.535 V, the assumption is False.\n",
      "The solution are (0.6939013422053886+0j) and (1.5169758507770679+0j)\n",
      "The valid VDS here is: 0.6939013422053886 V\n",
      "ID = 0.0007686995525982037 A\n"
     ]
    }
   ],
   "source": [
    "W = 3.5\n",
    "L = 0.35\n",
    "K_prime = 190*10**(-6)\n",
    "Kn = W/L*K_prime\n",
    "VGS = 1.5\n",
    "VTH = 0.57\n",
    "ID = saturation_current(VGS,VTH,Kn,fet_mode='sat')\n",
    "VCC = 3\n",
    "RD=3000\n",
    "#verification\n",
    "drain_voltage (VCC=VCC, ID=ID, RD=RD, VGS=VGS,VTH=VTH, fet_mode='sat')\n",
    "\n",
    "# verification fail -> so it's triode\n",
    "# VDS\n",
    "a = Kn/2\n",
    "b = -1*(1/RD+Kn*(VGS-VTH))\n",
    "c = VCC/RD\n",
    "Vd1, Vd2 = quadratic_formula(a=a,b=b,c=c)\n",
    "VDS = min(abs(Vd1),abs(Vd2))\n",
    "print('The valid VDS here is: {} V'.format(VDS))\n",
    "# ID\n",
    "ID = current_post_quad(VCC=VCC, VDS=VDS, RD=RD)"
   ]
  },
  {
   "cell_type": "code",
   "execution_count": 53,
   "metadata": {
    "hideCode": true
   },
   "outputs": [
    {
     "name": "stdout",
     "output_type": "stream",
     "text": [
      "The saturation current is: 1.9426550000000005 mA\n",
      "VDS = -2.828 V, the assumption is False.\n",
      "The solution are (0.3706100625820233+0j) and (2.8402671304004334+0j)\n",
      "The valid VDS here is: 0.3706100625820233 V\n",
      "ID = 0.0008764633124726589 A\n",
      "VDS = 0.3706100625820233 V, the assumption is True.\n"
     ]
    }
   ],
   "source": [
    "# input parameter\n",
    "VCC = 3\n",
    "RD=3000\n",
    "W = 3.5\n",
    "L = 0.35\n",
    "K_prime = 190*10**(-6)\n",
    "Kn = W/L*K_prime\n",
    "VGS = 2\n",
    "VTH = 0.57\n",
    "\n",
    "# assumption 1: saturation\n",
    "ID = saturation_current(VGS,VTH,Kn,fet_mode='sat')\n",
    "# verification for saturation\n",
    "drain_voltage (VCC=VCC, ID=ID, RD=RD, VGS=VGS,VTH=VTH, fet_mode='sat')\n",
    "\n",
    "# assumption 2: triode\n",
    "# Solving for VDS\n",
    "a = Kn/2\n",
    "b = -1*(1/RD+Kn*(VGS-VTH))\n",
    "c = VCC/RD\n",
    "Vd1, Vd2 = quadratic_formula(a=a,b=b,c=c)\n",
    "VDS = min(abs(Vd1),abs(Vd2))\n",
    "print('The valid VDS here is: {} V'.format(VDS))\n",
    "# Solving for ID\n",
    "ID = current_post_quad(VCC=VCC, VDS=VDS, RD=RD)\n",
    "# verification for triode\n",
    "VDS = drain_voltage(VDS=VDS, VGS=VGS, VTH=VTH, fet_mode=\"triode\")"
   ]
  },
  {
   "cell_type": "code",
   "execution_count": 54,
   "metadata": {
    "hideCode": true
   },
   "outputs": [
    {
     "name": "stdout",
     "output_type": "stream",
     "text": [
      "The saturation current is: 5.609655 mA\n",
      "VDS = -13.829 V, the assumption is False.\n",
      "The solution are (0.21051089379563057+0j) and (5.000366299186825+0j)\n",
      "The valid VDS here is: 0.21051089379563057 V\n",
      "ID = 0.0009298297020681231 A\n",
      "VDS = 0.21051089379563057 V, the assumption is True.\n"
     ]
    }
   ],
   "source": [
    "# input parameter\n",
    "VCC = 3\n",
    "RD=3000\n",
    "W = 3.5\n",
    "L = 0.35\n",
    "K_prime = 190*10**(-6)\n",
    "Kn = W/L*K_prime\n",
    "VGS = 3\n",
    "VTH = 0.57\n",
    "\n",
    "# assumption 1: saturation\n",
    "ID = saturation_current(VGS,VTH,Kn,fet_mode='sat')\n",
    "# verification for saturation\n",
    "drain_voltage (VCC=VCC, ID=ID, RD=RD, VGS=VGS,VTH=VTH, fet_mode='sat')\n",
    "\n",
    "# assumption 2: triode\n",
    "# Solving for VDS\n",
    "a = Kn/2\n",
    "b = -1*(1/RD+Kn*(VGS-VTH))\n",
    "c = VCC/RD\n",
    "Vd1, Vd2 = quadratic_formula(a=a,b=b,c=c)\n",
    "VDS = min(abs(Vd1),abs(Vd2))\n",
    "print('The valid VDS here is: {} V'.format(VDS))\n",
    "# Solving for ID\n",
    "ID = current_post_quad(VCC=VCC, VDS=VDS, RD=RD)\n",
    "# verification for triode\n",
    "VDS = drain_voltage(VDS=VDS, VGS=VGS, VTH=VTH, fet_mode=\"triode\")"
   ]
  },
  {
   "cell_type": "code",
   "execution_count": 55,
   "metadata": {
    "hideCode": true
   },
   "outputs": [
    {
     "name": "stdout",
     "output_type": "stream",
     "text": [
      "The saturation current is: 5.609655 mA\n",
      "VDS = -13.829 V, the assumption is False.\n",
      "The solution are (0.21051089379563057+0j) and (5.000366299186825+0j)\n",
      "The valid VDS here is: 0.21051089379563057 V\n",
      "ID = 0.0009298297020681231 A\n",
      "VDS = 0.21051089379563057 V, the assumption is True.\n"
     ]
    }
   ],
   "source": [
    "# input parameter\n",
    "VCC = 3\n",
    "RD=3000\n",
    "W = 3.5\n",
    "L = 0.35\n",
    "K_prime = 190*10**(-6)\n",
    "Kn = W/L*K_prime\n",
    "VGS = 3\n",
    "VTH = 0.57\n",
    "\n",
    "# assumption 1: saturation\n",
    "ID = saturation_current(VGS,VTH,Kn,fet_mode='sat')\n",
    "# verification for saturation\n",
    "drain_voltage (VCC=VCC, ID=ID, RD=RD, VGS=VGS,VTH=VTH, fet_mode='sat')\n",
    "\n",
    "# assumption 2: triode\n",
    "# Solving for VDS\n",
    "a = Kn/2\n",
    "b = -1*(1/RD+Kn*(VGS-VTH))\n",
    "c = VCC/RD\n",
    "Vd1, Vd2 = quadratic_formula(a=a,b=b,c=c)\n",
    "VDS = min(abs(Vd1),abs(Vd2))\n",
    "print('The valid VDS here is: {} V'.format(VDS))\n",
    "# Solving for ID\n",
    "ID = current_post_quad(VCC=VCC, VDS=VDS, RD=RD)\n",
    "# verification for triode\n",
    "VDS = drain_voltage(VDS=VDS, VGS=VGS, VTH=VTH, fet_mode=\"triode\")"
   ]
  },
  {
   "cell_type": "code",
   "execution_count": 56,
   "metadata": {
    "hideCode": true
   },
   "outputs": [
    {
     "name": "stdout",
     "output_type": "stream",
     "text": [
      "The solution are (-1.216308559592374+0j) and (0.8654313666099176+0j)\n",
      "VDS would be about: (0.8654313666099176+0j) V\n",
      "ID would be about: 0.0007115228777966942 A\n",
      "VGS would be about: 1.4354313666099174 V\n"
     ]
    }
   ],
   "source": [
    "# Problem: what is the drain voltage when MOSFET transition from SAT -> TRI?\n",
    "# AKA: What VDS would be to make that happen? \n",
    "# unknown: VGS, VDS, ID\n",
    "# known: VDS = VGS + VTH, device in saturation.\n",
    "\n",
    "# input parameter\n",
    "VCC = 3\n",
    "RD=3000\n",
    "W = 3.5\n",
    "L = 0.35\n",
    "K_prime = 190*10**(-6)\n",
    "Kn = W/L*K_prime\n",
    "VTH = 0.57\n",
    "\n",
    "a = Kn/2\n",
    "b = 1/RD\n",
    "c = -VCC/RD\n",
    "Vd1, Vd2 = quadratic_formula(a=a,b=b,c=c)\n",
    "VDS = abs(Vd2)\n",
    "print(\"VDS would be about: {} V\".format(Vd2)) #the positive digit one\n",
    "ID = (VCC - VDS)/RD\n",
    "print(\"ID would be about: {} A\".format(ID))\n",
    "VGS = VDS + VTH\n",
    "print(\"VGS would be about: {} V\".format(VGS))"
   ]
  },
  {
   "cell_type": "code",
   "execution_count": 48,
   "metadata": {
    "hideCode": true,
    "hideOutput": false,
    "hidePrompt": false
   },
   "outputs": [
    {
     "data": {
      "image/png": "[encoded data removed]",
      "text/plain": [
       "<Figure size 432x288 with 1 Axes>"
      ]
     },
     "metadata": {
      "needs_background": "light"
     },
     "output_type": "display_data"
    },
    {
     "data": {
      "image/png": "[encoded data removed]",
      "text/plain": [
       "<Figure size 432x288 with 1 Axes>"
      ]
     },
     "metadata": {
      "needs_background": "light"
     },
     "output_type": "display_data"
    }
   ],
   "source": [
    "import matplotlib\n",
    "import matplotlib.pyplot as plt\n",
    "import numpy as np\n",
    "\n",
    "# Data for plotting\n",
    "def plot_point ( t, data, xlabel, ylabel, title):\n",
    "    fig, ax = plt.subplots()\n",
    "    ax.plot(t, data)\n",
    "    ax.set(xlabel=xlabel, ylabel=ylabel,\n",
    "           title=title)\n",
    "    ax.grid()\n",
    "    plt.show()\n",
    "\n",
    "VGS = [0.5, 1, 1.2, 1.43, 1.5, 2, 3]\n",
    "ID = [0,.175,.377,0.71,.77,.87,.93]\n",
    "VD = [3,2.47,1.87,.86,.69,.37,.21]\n",
    "\n",
    "# ID vs. VGS\n",
    "plot_point(t=VGS, data=ID, xlabel = 'VG (V)', ylabel = 'Drain Current (mA)', title = 'ID vs. VG')\n",
    "# VD vs. VGS\n",
    "plot_point(t=VGS, data=VD, xlabel = 'VG (V)', ylabel = 'Drain Voltage (V)', title = 'VD vs. VG')"
   ]
  },
  {
   "cell_type": "markdown",
   "metadata": {},
   "source": [
    "### Problem 2\n",
    "![Problem-2](./image/act1_p2.png)\n",
    "\n",
    "| $V_{bias}$ | MOSFET Operation Mode | $I_D$ (mA) | $V_D$ (V) |\n",
    "| ------ | --------------------- | -------- | ------- |\n",
    "| 0.5    | OFF | 0    | 1.5    |\n",
    "| 1.0    | SAT | .175 | 1.23 |\n",
    "| 1.2    | SAT | .377 | .93 |\n",
    "| 1.5    | LINEAR | .650  | .514 |\n",
    "| 2.0    | LINEAR | .783 | .325 |\n",
    "| 3.0    | LINEAR | .869 | .196 |"
   ]
  },
  {
   "cell_type": "code",
   "execution_count": 58,
   "metadata": {
    "hideCode": true,
    "hidePrompt": false
   },
   "outputs": [],
   "source": [
    "import numpy as np\n",
    "\n",
    "# Saturation\n",
    "def drain_voltage (VCC=None, ID=None, RD1=None, RD2=None, VGS=None, VTH=None, VDS=None, fet_mode=''):\n",
    "    if fet_mode==\"sat\":\n",
    "        VDS = parallel_resistance(R1=RD1, R2=RD2)*(VCC/RD1-ID)\n",
    "        mode_true = VDS > (VGS-VTH)\n",
    "        print(\"VDS = {} V, the assumption is {}.\".format(VDS, mode_true))\n",
    "        return VDS\n",
    "    elif fet_mode=='triode':\n",
    "        mode_true = VDS < (VGS-VTH)\n",
    "        print(\"VDS = {} V, the assumption is {}.\".format(VDS, mode_true))\n",
    "        return VDS\n",
    "    return None\n",
    "def parallel_resistance (R1, R2):\n",
    "    return R1*R2/(R1+R2)\n",
    "\n",
    "# Triode\n",
    "def quadratic_formula (a,b,c):\n",
    "    d = (b**2) - (4*a*c)  \n",
    "    sol1 = (-b-cmath.sqrt(d))/(2*a)  \n",
    "    sol2 = (-b+cmath.sqrt(d))/(2*a)  \n",
    "    print('The solution are {0} and {1}'.format(sol1,sol2))\n",
    "    return [sol1, sol2]\n",
    "def current_post_quad (VCC, VDS, RD1,RD2):\n",
    "    ID = VCC/RD1-VDS*(parallel_resistance(R1=RD1,R2=RD2)**(-1))\n",
    "    print('ID = {} A'.format(ID))\n",
    "    return ID"
   ]
  },
  {
   "cell_type": "code",
   "execution_count": 42,
   "metadata": {
    "hideCode": true,
    "hideOutput": false
   },
   "outputs": [
    {
     "name": "stdout",
     "output_type": "stream",
     "text": [
      "The saturation current is: 0.175655 mA\n",
      "VDS = 1.2365175 V, the assumption is True.\n"
     ]
    },
    {
     "data": {
      "text/plain": [
       "1.2365175"
      ]
     },
     "execution_count": 42,
     "metadata": {},
     "output_type": "execute_result"
    }
   ],
   "source": [
    "W = 3.5\n",
    "L = 0.35\n",
    "K_prime = 190*10**(-6)\n",
    "Kn = W/L*K_prime\n",
    "VGS = 1\n",
    "VTH = 0.57\n",
    "ID = saturation_current(VGS,VTH,Kn,fet_mode='sat')\n",
    "VCC = 3\n",
    "RD=3000\n",
    "#verification\n",
    "drain_voltage (VCC=VCC, ID=ID, RD1=RD, RD2=RD,\\\n",
    "               VGS=VGS,VTH=VTH, fet_mode='sat')"
   ]
  },
  {
   "cell_type": "code",
   "execution_count": 43,
   "metadata": {
    "hideCode": true,
    "hideOutput": true
   },
   "outputs": [
    {
     "name": "stdout",
     "output_type": "stream",
     "text": [
      "The saturation current is: 0.377055 mA\n",
      "VDS = 0.9344174999999999 V, the assumption is True.\n"
     ]
    },
    {
     "data": {
      "text/plain": [
       "0.9344174999999999"
      ]
     },
     "execution_count": 43,
     "metadata": {},
     "output_type": "execute_result"
    }
   ],
   "source": [
    "W = 3.5\n",
    "L = 0.35\n",
    "K_prime = 190*10**(-6)\n",
    "Kn = W/L*K_prime\n",
    "VGS = 1.2\n",
    "VTH = 0.57\n",
    "ID = saturation_current(VGS,VTH,Kn,fet_mode='sat')\n",
    "VCC = 3\n",
    "RD=3000\n",
    "#verification\n",
    "drain_voltage (VCC=VCC, ID=ID, RD1=RD, RD2=RD,\\\n",
    "               VGS=VGS,VTH=VTH, fet_mode='sat')"
   ]
  },
  {
   "cell_type": "code",
   "execution_count": 38,
   "metadata": {
    "hideCode": true,
    "hideOutput": true
   },
   "outputs": [
    {
     "name": "stdout",
     "output_type": "stream",
     "text": [
      "The saturation current is: 0.821655 mA\n",
      "VDS = 0.2675175 V, the assumption is False.\n",
      "The solution are (0.5140559592159103+0j) and (2.047698426749002+0j)\n",
      "The valid VDS here is: 0.5140559592159103 V\n",
      "ID = 0.0006572960271893932 A\n"
     ]
    }
   ],
   "source": [
    "W = 3.5\n",
    "L = 0.35\n",
    "K_prime = 190*10**(-6)\n",
    "Kn = W/L*K_prime\n",
    "VGS = 1.5\n",
    "VTH = 0.57\n",
    "ID = saturation_current(VGS,VTH,Kn,fet_mode='sat')\n",
    "VCC = 3\n",
    "RD1=3000\n",
    "RD2=3000\n",
    "#verification\n",
    "drain_voltage (VCC=VCC, ID=ID, RD1=RD, RD2=RD,\\\n",
    "               VGS=VGS,VTH=VTH, fet_mode='sat')\n",
    "\n",
    "# verification fail -> so it's triode\n",
    "# VDS\n",
    "a = Kn/2\n",
    "b = -1*(Kn*(VGS-VTH)+parallel_resistance(R1=RD1, R2=RD2)**(-1))\n",
    "c = VCC/RD1\n",
    "Vd1, Vd2 = quadratic_formula(a=a,b=b,c=c)\n",
    "VDS = min(abs(Vd1),abs(Vd2))\n",
    "print('The valid VDS here is: {} V'.format(VDS))\n",
    "# ID\n",
    "ID = current_post_quad(VCC=VCC, VDS=VDS, RD1=RD1,RD2=RD2)"
   ]
  },
  {
   "cell_type": "code",
   "execution_count": 39,
   "metadata": {
    "hideCode": true,
    "hideOutput": false
   },
   "outputs": [
    {
     "name": "stdout",
     "output_type": "stream",
     "text": [
      "The saturation current is: 1.9426550000000005 mA\n",
      "VDS = -1.4139825000000006 V, the assumption is False.\n",
      "The solution are (0.3252357544620683+0j) and (3.236518631502844+0j)\n",
      "The valid VDS here is: 0.3252357544620683 V\n",
      "ID = 0.0007831761636919545 A\n"
     ]
    }
   ],
   "source": [
    "W = 3.5\n",
    "L = 0.35\n",
    "K_prime = 190*10**(-6)\n",
    "Kn = W/L*K_prime\n",
    "VGS = 2\n",
    "VTH = 0.57\n",
    "ID = saturation_current(VGS,VTH,Kn,fet_mode='sat')\n",
    "VCC = 3\n",
    "RD1=3000\n",
    "RD2=3000\n",
    "#verification\n",
    "drain_voltage (VCC=VCC, ID=ID, RD1=RD, RD2=RD,\\\n",
    "               VGS=VGS,VTH=VTH, fet_mode='sat')\n",
    "\n",
    "# verification fail -> so it's triode\n",
    "# VDS\n",
    "a = Kn/2\n",
    "b = -1*(Kn*(VGS-VTH)+parallel_resistance(R1=RD1, R2=RD2)**(-1))\n",
    "c = VCC/RD1\n",
    "Vd1, Vd2 = quadratic_formula(a=a,b=b,c=c)\n",
    "VDS = min(abs(Vd1),abs(Vd2))\n",
    "print('The valid VDS here is: {} V'.format(VDS))\n",
    "# ID\n",
    "ID = current_post_quad(VCC=VCC, VDS=VDS, RD1=RD1,RD2=RD2)"
   ]
  },
  {
   "cell_type": "code",
   "execution_count": 40,
   "metadata": {
    "hideCode": true
   },
   "outputs": [
    {
     "name": "stdout",
     "output_type": "stream",
     "text": [
      "The saturation current is: 5.609655 mA\n",
      "VDS = -6.9144825 V, the assumption is False.\n",
      "The solution are (0.19618255270043303+0j) and (5.365571833264481+0j)\n",
      "The valid VDS here is: 0.19618255270043303 V\n",
      "ID = 0.0008692116315330447 A\n"
     ]
    }
   ],
   "source": [
    "W = 3.5\n",
    "L = 0.35\n",
    "K_prime = 190*10**(-6)\n",
    "Kn = W/L*K_prime\n",
    "VGS = 3\n",
    "VTH = 0.57\n",
    "ID = saturation_current(VGS,VTH,Kn,fet_mode='sat')\n",
    "VCC = 3\n",
    "RD1=3000\n",
    "RD2=3000\n",
    "#verification\n",
    "drain_voltage (VCC=VCC, ID=ID, RD1=RD, RD2=RD,\\\n",
    "               VGS=VGS,VTH=VTH, fet_mode='sat')\n",
    "\n",
    "# verification fail -> so it's triode\n",
    "# VDS\n",
    "a = Kn/2\n",
    "b = -1*(Kn*(VGS-VTH)+parallel_resistance(R1=RD1, R2=RD2)**(-1))\n",
    "c = VCC/RD1\n",
    "Vd1, Vd2 = quadratic_formula(a=a,b=b,c=c)\n",
    "VDS = min(abs(Vd1),abs(Vd2))\n",
    "print('The valid VDS here is: {} V'.format(VDS))\n",
    "# ID\n",
    "ID = current_post_quad(VCC=VCC, VDS=VDS, RD1=RD1,RD2=RD2)"
   ]
  },
  {
   "cell_type": "code",
   "execution_count": 62,
   "metadata": {
    "hideCode": true,
    "hidePrompt": false
   },
   "outputs": [
    {
     "name": "stdout",
     "output_type": "stream",
     "text": [
      "Find the point where device transition from saturation to linear region\n",
      "\n",
      "This is the 2 possible VD value\n",
      "The solution are (-1.4351955887973646+0j) and (0.7334412028324524+0j)\n",
      "This is the ID value from the valid VDS value\n",
      "ID = 0.0005110391981116984 A\n",
      "VDS would be about: (0.7334412028324524+0j) V\n",
      "ID would be about: 0.0005110391981116984 A\n",
      "VGS would be about: 1.3034412028324525 V\n"
     ]
    }
   ],
   "source": [
    "# Problem: what is the drain voltage when MOSFET transition from SAT -> TRI?\n",
    "# AKA: What VDS would be to make that happen? \n",
    "# unknown: VGS, VDS, ID\n",
    "# known: VDS = VGS + VTH, device in saturation.\n",
    "\n",
    "# input parameter\n",
    "VCC = 3\n",
    "RD1=3000\n",
    "RD2=3000\n",
    "W = 3.5\n",
    "L = 0.35\n",
    "K_prime = 190*10**(-6)\n",
    "Kn = W/L*K_prime\n",
    "VTH = 0.57\n",
    "print(\"Find the point where device transition from saturation to linear region\\n\")\n",
    "a = Kn/2\n",
    "b = parallel_resistance(R1=RD1, R2=RD2)**(-1)\n",
    "c = -VCC/RD1\n",
    "print(\"This is the 2 possible VD value\")\n",
    "Vd1, Vd2 = quadratic_formula(a=a,b=b,c=c)\n",
    "\n",
    "#answer\n",
    "VDS = abs(Vd2)\n",
    "print(\"This is the ID value from the valid VDS value\")\n",
    "ID = current_post_quad(VCC=VCC, VDS=VDS, RD1=RD1,RD2=RD2)\n",
    "VGS = VDS + VTH\n",
    "\n",
    "#output\n",
    "print(\"VDS would be about: {} V\".format(Vd2)) #the positive digit one\n",
    "print(\"ID would be about: {} A\".format(ID))\n",
    "print(\"VGS would be about: {} V\".format(VGS))"
   ]
  },
  {
   "cell_type": "code",
   "execution_count": 47,
   "metadata": {
    "hideCode": true
   },
   "outputs": [
    {
     "data": {
      "image/png": "[encoded data removed]",
      "text/plain": [
       "<Figure size 432x288 with 1 Axes>"
      ]
     },
     "metadata": {
      "needs_background": "light"
     },
     "output_type": "display_data"
    },
    {
     "data": {
      "image/png": "[encoded data removed]",
      "text/plain": [
       "<Figure size 432x288 with 1 Axes>"
      ]
     },
     "metadata": {
      "needs_background": "light"
     },
     "output_type": "display_data"
    }
   ],
   "source": [
    "VGS = [0.5, 1, 1.2, 1.303, 1.5, 2, 3]\n",
    "ID = [0,.175,.377,0.511,.65,.783,.869]\n",
    "VD = [1.5,1.23,0.93,.733,.51,.325,.196]\n",
    "\n",
    "# ID vs. VGS\n",
    "plot_point(t=VGS, data=ID, xlabel = 'VG (V)', ylabel = 'Drain Current (mA)', title = 'ID vs. VG')\n",
    "# VD vs. VGS\n",
    "plot_point(t=VGS, data=VD, xlabel = 'VG (V)', ylabel = 'Drain Voltage (V)', title = 'VD vs. VG')"
   ]
  },
  {
   "cell_type": "markdown",
   "metadata": {},
   "source": [
    "### Problem 3\n",
    "![Problem-3](./image/Q3-sol.jpg)"
   ]
  },
  {
   "cell_type": "code",
   "execution_count": null,
   "metadata": {},
   "outputs": [],
   "source": []
  }
 ],
 "metadata": {
  "celltoolbar": "Hide code",
  "kernelspec": {
   "display_name": "Python 3",
   "language": "python",
   "name": "python3"
  },
  "language_info": {
   "codemirror_mode": {
    "name": "ipython",
    "version": 3
   },
   "file_extension": ".py",
   "mimetype": "text/x-python",
   "name": "python",
   "nbconvert_exporter": "python",
   "pygments_lexer": "ipython3",
   "version": "3.7.4"
  }
 },
 "nbformat": 4,
 "nbformat_minor": 2
}
